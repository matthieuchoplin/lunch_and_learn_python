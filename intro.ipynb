{
 "cells": [
  {
   "cell_type": "markdown",
   "metadata": {
    "slideshow": {
     "slide_type": "slide"
    }
   },
   "source": [
    "# Intro to programming using python"
   ]
  },
  {
   "cell_type": "markdown",
   "metadata": {
    "slideshow": {
     "slide_type": "slide"
    }
   },
   "source": [
    "## Objectives\n",
    "\n",
    "* To get a brief overview of what Python is\n",
    "* To understand computer basics and programs\n",
    "* To write a small python program"
   ]
  },
  {
   "cell_type": "markdown",
   "metadata": {
    "slideshow": {
     "slide_type": "slide"
    }
   },
   "source": [
    "### Python has been increasingly popular in the last few years.\n",
    "\n",
    "![Graph of popularity from tiobe.com](images/tiobe_index.png)"
   ]
  },
  {
   "cell_type": "markdown",
   "metadata": {
    "slideshow": {
     "slide_type": "slide"
    }
   },
   "source": [
    "### In particular due to the adoption of python by the data science community which is illustrated by [this study of stackoverflow](https://stackoverflow.blog/2017/09/14/python-growing-quickly/):\n",
    "![Graph which shows that pandas is the 1st python related search, followed by web related terms](images/stackoverflow_study.jpeg)"
   ]
  },
  {
   "cell_type": "markdown",
   "metadata": {
    "slideshow": {
     "slide_type": "slide"
    }
   },
   "source": [
    "![Who uses python](images/who-uses-python.jpg)"
   ]
  },
  {
   "cell_type": "markdown",
   "metadata": {
    "slideshow": {
     "slide_type": "slide"
    }
   },
   "source": [
    "## What is python used for?\n",
    "\n",
    "* Web development\n",
    "* Data analysis\n",
    "* Web scraping\n",
    "* Gaming\n",
    "* Robotics\n",
    "* ..."
   ]
  },
  {
   "cell_type": "markdown",
   "metadata": {
    "slideshow": {
     "slide_type": "slide"
    }
   },
   "source": [
    "## Before going more into details... What is a computer? (1/2)\n",
    "An electronic device that is receiving data input, storing (in RAM) and processing (in the CPU) them and producing information in output.\n",
    "\n",
    "![](images/what_is_computer.png)"
   ]
  },
  {
   "cell_type": "markdown",
   "metadata": {
    "slideshow": {
     "slide_type": "slide"
    }
   },
   "source": [
    "## What is a computer? (2/2)\n",
    "\n",
    "![](images/what_is_computer_example.png)\n"
   ]
  },
  {
   "cell_type": "markdown",
   "metadata": {
    "slideshow": {
     "slide_type": "slide"
    }
   },
   "source": [
    "## What is a program?\n",
    "\n",
    "\n",
    "* Computer programs, known as software, are instructions to the computer.\n",
    "* You tell a computer what to do through programs. Without programs, a computer is an empty machine. Computers do not understand human languages, so you need to use computer languages to communicate with them.\n",
    "* Programs are written using programming languages.\n"
   ]
  },
  {
   "cell_type": "markdown",
   "metadata": {
    "slideshow": {
     "slide_type": "slide"
    }
   },
   "source": [
    "## Different types of Programming Languages\n",
    "\n",
    "* Machine language is a set of primitive instructions built into every computer. The instructions are in the form of binary code. The programs in machine language are highly difficult to read and modify. For example, to add two numbers, you might write an instruction in binary like this: \n",
    "\n",
    "`1101101010011010`\n",
    "\n",
    "* The high-level languages are English-like and easy to learn and program. For example, the following is a high-level language statement that multiply two number: \n",
    "\n",
    "`area = 5 * 5`\n",
    "\n"
   ]
  },
  {
   "cell_type": "markdown",
   "metadata": {
    "slideshow": {
     "slide_type": "slide"
    }
   },
   "source": [
    "## Diving in...\n",
    "\n",
    "* Variables\n",
    "* Comments\n",
    "* Expressions\n",
    "* Indentations\n",
    "* Functions\n",
    "* Conditions"
   ]
  },
  {
   "cell_type": "markdown",
   "metadata": {
    "slideshow": {
     "slide_type": "slide"
    }
   },
   "source": [
    "## Variable (1)\n",
    "\n",
    "It is a space created in memory (in RAM) where we can temporarily store values or data. We use the sign '=' for assigning a value to a variable.\n",
    "\n",
    "You can think of it like a box.\n",
    "\n",
    "![](images/box_variable.png)\n",
    "\n",
    "\n",
    "Notice that we do not specify the type (integer, string) of the variable, python sees it automatically."
   ]
  },
  {
   "cell_type": "code",
   "execution_count": null,
   "metadata": {
    "slideshow": {
     "slide_type": "subslide"
    }
   },
   "outputs": [],
   "source": [
    "The variable has a name so that we can reuse it. When we use a variable, it is for retrieving the value that it is holding."
   ]
  },
  {
   "cell_type": "code",
   "execution_count": null,
   "metadata": {
    "slideshow": {
     "slide_type": "-"
    }
   },
   "outputs": [],
   "source": [
    ">>> spam = 40\n",
    ">>> spam\n",
    "40\n",
    ">>> eggs = 2\n",
    ">>> spam + eggs\n",
    "42\n",
    ">>> spam + eggs + spam\n",
    "82\n",
    ">>> spam = spam + 2\n",
    ">>> spam\n",
    "42\n"
   ]
  },
  {
   "cell_type": "markdown",
   "metadata": {
    "slideshow": {
     "slide_type": "subslide"
    }
   },
   "source": [
    "## Variable (2)\n",
    "\n",
    "When a new value is assigned to a variable, the old one is forgotten.\n",
    "\n",
    "![](images/box_replace_variable.png)"
   ]
  },
  {
   "cell_type": "markdown",
   "metadata": {
    "slideshow": {
     "slide_type": "subslide"
    }
   },
   "source": [
    "## Variable (3)\n",
    "\n",
    "\n",
    "* A variable name is a non-empty sequence of characters of any length with:\n",
    "  - The start character can be the underscore \"_\" or a capital or lower case letter.\n",
    "* Python keywords are not allowed as identifier names!\n"
   ]
  },
  {
   "cell_type": "markdown",
   "metadata": {
    "slideshow": {
     "slide_type": "slide"
    }
   },
   "source": [
    "## Comments\n",
    "\n",
    "* Is not executed, it is ignored by the program\n",
    "* `#` is commenting everything on the right of it\n",
    "\n",
    "```python\n",
    "a = 1\n",
    "# this is ignored, commented\n",
    "```"
   ]
  },
  {
   "cell_type": "markdown",
   "metadata": {
    "slideshow": {
     "slide_type": "slide"
    }
   },
   "source": [
    "## Expression\n",
    "\n",
    "It represents a value, like a number or a string\n",
    "\n",
    "```python\n",
    ">>> 1 # is an expression\n",
    ">>> 2 + 3 # is also an expression\n",
    ">>> \"hello\" # as well\n",
    "```\n",
    "\n",
    "We can put an expression in a variable\n",
    "\n",
    "```python\n",
    "\n",
    "my_variable = 1 + 1\n",
    "```"
   ]
  },
  {
   "cell_type": "markdown",
   "metadata": {
    "slideshow": {
     "slide_type": "slide"
    }
   },
   "source": [
    "## Function execution (1)\n",
    "\n",
    "* A function has a name\n",
    "* A function has parameters (that can be optional)\n",
    "* A function is executed!\n",
    "\n",
    "Example:\n",
    "\n",
    "```python\n",
    "print('Hello world')\n",
    "```\n",
    " "
   ]
  },
  {
   "cell_type": "markdown",
   "metadata": {
    "slideshow": {
     "slide_type": "subslide"
    }
   },
   "source": [
    "## Function execution (2)\n",
    "\n",
    "Example: input()\n",
    "\n",
    "* Prompt the user to enter an input, the programs waits for an input and as soon as the user press Enter, the program carries on\n",
    "* The input function __returns__ a value that we can store in a variable and then reuse."
   ]
  },
  {
   "cell_type": "code",
   "execution_count": null,
   "metadata": {},
   "outputs": [],
   "source": [
    "name_of_the_user = input(\"Enter your name: \")\n",
    "print(f\"Hello {name_of_the_user}\")"
   ]
  },
  {
   "cell_type": "markdown",
   "metadata": {
    "slideshow": {
     "slide_type": "slide"
    }
   },
   "source": [
    "## Indentation\n",
    "\n",
    "The indentation is the increase or decrease of space between the left margin and the first character of the line.\n",
    "\n",
    "The code need to be properly indented, else python will raise an error.\n",
    "\n",
    "For example, what is wrong here?"
   ]
  },
  {
   "cell_type": "code",
   "execution_count": null,
   "metadata": {},
   "outputs": [],
   "source": [
    "if True:\n",
    "print(\"what is wrong?\")\n",
    "print(\"indented properly \")"
   ]
  },
  {
   "cell_type": "markdown",
   "metadata": {
    "slideshow": {
     "slide_type": "slide"
    }
   },
   "source": [
    "## Function definition (1)\n",
    "\n",
    "To define a function, we use the keyword def, the name of the function, the brackets, and the colon\n",
    "\n",
    "Then the body of the function needs to be indented\n",
    "\n",
    "```python\n",
    "def name_of_the_function():\n",
    "    # body of the function\n",
    "```\n",
    "\n",
    "When we define a function, we just make python see that the function exist but it is not executed\n",
    "\n",
    "```python\n",
    "def my_function():\n",
    "  print(\"THIS IS MY FUNCTION\")\n",
    "```"
   ]
  },
  {
   "cell_type": "markdown",
   "metadata": {
    "slideshow": {
     "slide_type": "subslide"
    }
   },
   "source": [
    "## Function definition vs execution (2)\n",
    "\n",
    "To call or execute or run a function, we use the name of the function AND the brackets, without the brackets, the function is not called.\n",
    "\n",
    "`name_of_the_function()`\n",
    "\n",
    "Notice the difference between defining and calling a function\n",
    "\n",
    "```python\n",
    "def my_function():\n",
    "  print(\"THIS IS MY FUNCTION\")\n",
    "\n",
    "my_function()\n",
    "```"
   ]
  },
  {
   "cell_type": "markdown",
   "metadata": {
    "slideshow": {
     "slide_type": "slide"
    }
   },
   "source": [
    "## Conditions\n",
    "\n"
   ]
  },
  {
   "cell_type": "code",
   "execution_count": null,
   "metadata": {},
   "outputs": [],
   "source": [
    "def drink_beer(quantity):\n",
    "    if quantity == 0:\n",
    "        face = u'😊'\n",
    "    elif quantity in range(1, 3):\n",
    "        face = u'😃'\n",
    "    elif quantity in range(3, 4):\n",
    "        face = u'🤩'\n",
    "    elif quantity in range(4, 10):\n",
    "        face = u'🤢'\n",
    "    elif quantity > 10:\n",
    "        face = u'🤮'\n",
    "           \n",
    "    print(u'🍺' * quantity, '=', face)\n",
    "        \n",
    "drink_beer(int(input('How many beer is good enough?')))"
   ]
  }
 ],
 "metadata": {
  "celltoolbar": "Slideshow",
  "kernelspec": {
   "display_name": "Python 3",
   "language": "python",
   "name": "python3"
  },
  "language_info": {
   "codemirror_mode": {
    "name": "ipython",
    "version": 3
   },
   "file_extension": ".py",
   "mimetype": "text/x-python",
   "name": "python",
   "nbconvert_exporter": "python",
   "pygments_lexer": "ipython3",
   "version": "3.6.6"
  }
 },
 "nbformat": 4,
 "nbformat_minor": 2
}
